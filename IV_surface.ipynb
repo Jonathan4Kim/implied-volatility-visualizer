{
 "cells": [
  {
   "cell_type": "markdown",
   "id": "1ef3e335",
   "metadata": {},
   "source": [
    "# Black Scholes Pricing Model\n",
    "The goal of this Jupyter Notebook is to formally put the Black Scholes Model into Python. This is an option pricing model widely used in quantitative finance, designed to accurately price models.\n",
    "\n",
    "\n",
    "#### Call Option Value:\n",
    "\n",
    "$C = Se^{-qT}N(d_1) - Ke^{-rT}N(d_2)$\n",
    "\n",
    "#### Put Option Value:\n",
    "\n",
    "$P = Ke^{-rT}N(-d_2) - Se^{-qT}N(-d_1)$\n",
    "\n",
    "___\n",
    "\n",
    "#### $d_1$ and $d_2$\n",
    "\n",
    "$$d_1 = \\frac{ln(S/K) + (r - q + 0.5\\sigma^2)}{\\sigma \\sqrt{T}}$$\n",
    "\n",
    "$$d_2 = d_1 - \\sigma \\sqrt{T}$$\n",
    "\n",
    "___\n",
    "\n",
    "If we don't know volatility, we'll need the following 5 terms to understand it:\n",
    "\n",
    "$S = 100$, Underlying Price\n",
    "\n",
    "$K = 110$, Strike Price\n",
    "\n",
    "$T = 1$, Time to maturity\n",
    "\n",
    "$r = 0.05$, Risk-free rate\n",
    "\n",
    "$q = 0$, Dividend Yield\n",
    "\n",
    "Hedge funds are buying/selling volatility, and will be pricing volatility and capitalizing on that to find mispriced assets. The seventh variable is the price of the option, the market dictates that in some way.\n",
    "\n",
    "It's called implied volatility because the Theo value of the option based on the market leads to finding sigma.\n",
    "\n",
    "It's hard to find sigma, or volatility, using $d_1$."
   ]
  },
  {
   "cell_type": "code",
   "execution_count": null,
   "id": "389d14f9",
   "metadata": {},
   "outputs": [],
   "source": [
    "def black_scholes(S, K, T, r, q=0, option_type=\"call\"):\n",
    "    \"\"\"\n",
    "    Computes the option price using the Black-Scholes\n",
    "    Formula given the inputs\n",
    "\n",
    "    Args:\n",
    "        S (int): Underlying Price\n",
    "        K (int): Strike Price\n",
    "        T (float): Time to Maturity\n",
    "        r (float): risk-free rate\n",
    "        q (int, optional): _description_\n",
    "        option_type (str, optional): _description_. Defaults to \"call\".\n",
    "    \n",
    "    Returns:\n",
    "        a float, showing the proper option price based on the equation.\n",
    "    \"\"\"\n",
    "\n",
    "def"
   ]
  }
 ],
 "metadata": {
  "language_info": {
   "name": "python"
  }
 },
 "nbformat": 4,
 "nbformat_minor": 5
}
